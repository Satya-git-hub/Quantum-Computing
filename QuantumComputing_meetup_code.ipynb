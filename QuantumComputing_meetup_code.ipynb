{
 "cells": [
  {
   "cell_type": "code",
   "execution_count": 3,
   "metadata": {},
   "outputs": [
    {
     "data": {
      "application/json": "[\"SayHello\"]",
      "text/html": [
       "<ul><li>SayHello</li></ul>"
      ],
      "text/plain": [
       "SayHello"
      ]
     },
     "execution_count": 3,
     "metadata": {},
     "output_type": "execute_result"
    }
   ],
   "source": [
    "//Hello World walla code\n",
    "operation SayHello () : Unit {\n",
    "    Message(\"Hello from quantum world!\");\n",
    "}"
   ]
  },
  {
   "cell_type": "code",
   "execution_count": 4,
   "metadata": {},
   "outputs": [
    {
     "name": "stdout",
     "output_type": "stream",
     "text": [
      "Hello from quantum world!\n"
     ]
    },
    {
     "data": {
      "application/json": "{\"@type\":\"tuple\"}",
      "text/plain": [
       "()"
      ]
     },
     "execution_count": 4,
     "metadata": {},
     "output_type": "execute_result"
    }
   ],
   "source": [
    "%simulate SayHello"
   ]
  },
  {
   "cell_type": "code",
   "execution_count": 21,
   "metadata": {},
   "outputs": [
    {
     "name": "stdout",
     "output_type": "stream",
     "text": [
      "C:/snippet_.qs(2,34): warning QS3002: Deprecated syntax. Use the type name \"Unit\" instead.\n",
      "C:/snippet_.qs(4,9): warning QS3003: Deprecated syntax. An argument tuple is expected where \"...\" indicates the position of the declaration arguments, e.g. \"(...)\" for body and adjoint, \"(cs, ...)\" for controlled and controlled adjoint.\n"
     ]
    },
    {
     "data": {
      "application/json": "[\"MeasurementOperation\"]",
      "text/html": [
       "<ul><li>MeasurementOperation</li></ul>"
      ],
      "text/plain": [
       "MeasurementOperation"
      ]
     },
     "execution_count": 21,
     "metadata": {},
     "output_type": "execute_result"
    }
   ],
   "source": [
    "//defining a Qubit\n",
    "//by default all qubits are assigned a value of 0\n",
    "operation MeasurementOperation():()\n",
    "{\n",
    "    body\n",
    "    {\n",
    "        using(qubits = Qubit[1])\n",
    "        {\n",
    "            let qubit = M(qubits[0]);\n",
    "            if(qubit == Zero)\n",
    "            {\n",
    "                Message(\"Zero\");\n",
    "            }\n",
    "            elif(qubit == One)\n",
    "            {\n",
    "                Message(\"One\");\n",
    "            }\n",
    "        }\n",
    "    }\n",
    "}"
   ]
  },
  {
   "cell_type": "code",
   "execution_count": 22,
   "metadata": {},
   "outputs": [
    {
     "name": "stdout",
     "output_type": "stream",
     "text": [
      "Zero\n"
     ]
    },
    {
     "data": {
      "application/json": "{\"@type\":\"tuple\"}",
      "text/plain": [
       "()"
      ]
     },
     "execution_count": 22,
     "metadata": {},
     "output_type": "execute_result"
    }
   ],
   "source": [
    "%simulate MeasurementOperation"
   ]
  },
  {
   "cell_type": "code",
   "execution_count": 27,
   "metadata": {},
   "outputs": [
    {
     "name": "stdout",
     "output_type": "stream",
     "text": [
      "C:/snippet_.qs(2,34): warning QS3002: Deprecated syntax. Use the type name \"Unit\" instead.\n",
      "C:/snippet_.qs(4,9): warning QS3003: Deprecated syntax. An argument tuple is expected where \"...\" indicates the position of the declaration arguments, e.g. \"(...)\" for body and adjoint, \"(cs, ...)\" for controlled and controlled adjoint.\n"
     ]
    },
    {
     "data": {
      "application/json": "[\"MeasurementOperation\"]",
      "text/html": [
       "<ul><li>MeasurementOperation</li></ul>"
      ],
      "text/plain": [
       "MeasurementOperation"
      ]
     },
     "execution_count": 27,
     "metadata": {},
     "output_type": "execute_result"
    }
   ],
   "source": [
    "//applying X gate on the qubit which will reverse the polarity from 0 to 1\n",
    "operation MeasurementOperation():()\n",
    "{\n",
    "    body\n",
    "    {\n",
    "        using(qubits = Qubit[1])\n",
    "        {\n",
    "            X(qubits[0]);\n",
    "            let qubit = M(qubits[0]);\n",
    "            if(qubit == Zero)\n",
    "            {\n",
    "                Message(\"Zero\");\n",
    "            }\n",
    "            elif(qubit == One)\n",
    "            {\n",
    "                Message(\"One\");\n",
    "            }\n",
    "            //At the end of using, we ned to Reset all the qubits\n",
    "            Reset(qubits[0]);\n",
    "        }\n",
    "    }\n",
    "}"
   ]
  },
  {
   "cell_type": "code",
   "execution_count": 28,
   "metadata": {},
   "outputs": [
    {
     "name": "stdout",
     "output_type": "stream",
     "text": [
      "One\n"
     ]
    },
    {
     "data": {
      "application/json": "{\"@type\":\"tuple\"}",
      "text/plain": [
       "()"
      ]
     },
     "execution_count": 28,
     "metadata": {},
     "output_type": "execute_result"
    }
   ],
   "source": [
    "%simulate MeasurementOperation"
   ]
  },
  {
   "cell_type": "code",
   "execution_count": 35,
   "metadata": {},
   "outputs": [
    {
     "name": "stdout",
     "output_type": "stream",
     "text": [
      "C:/snippet_.qs(3,34): warning QS3002: Deprecated syntax. Use the type name \"Unit\" instead.\n",
      "C:/snippet_.qs(5,9): warning QS3003: Deprecated syntax. An argument tuple is expected where \"...\" indicates the position of the declaration arguments, e.g. \"(...)\" for body and adjoint, \"(cs, ...)\" for controlled and controlled adjoint.\n"
     ]
    },
    {
     "data": {
      "application/json": "[\"MeasurementOperation\"]",
      "text/html": [
       "<ul><li>MeasurementOperation</li></ul>"
      ],
      "text/plain": [
       "MeasurementOperation"
      ]
     },
     "execution_count": 35,
     "metadata": {},
     "output_type": "execute_result"
    }
   ],
   "source": [
    "//applying H gate on the qubit which will give a 50 - 50 chance of the output\n",
    "//the output might change in every exectuion because H will put the qubit in a 50/50 superposition\n",
    "operation MeasurementOperation():()\n",
    "{\n",
    "    body\n",
    "    {\n",
    "        using(qubits = Qubit[1])\n",
    "        {\n",
    "            H(qubits[0]);\n",
    "            let qubit = M(qubits[0]);\n",
    "            if(qubit == Zero)\n",
    "            {\n",
    "                Message(\"Zero\");\n",
    "            }\n",
    "            elif(qubit == One)\n",
    "            {\n",
    "                Message(\"One\");\n",
    "            }\n",
    "            //At the end of using, we ned to Reset all the qubits\n",
    "            Reset(qubits[0]);\n",
    "        }\n",
    "    }\n",
    "}"
   ]
  },
  {
   "cell_type": "code",
   "execution_count": 36,
   "metadata": {},
   "outputs": [
    {
     "name": "stdout",
     "output_type": "stream",
     "text": [
      "One\n"
     ]
    },
    {
     "data": {
      "application/json": "{\"@type\":\"tuple\"}",
      "text/plain": [
       "()"
      ]
     },
     "execution_count": 36,
     "metadata": {},
     "output_type": "execute_result"
    }
   ],
   "source": [
    "%simulate MeasurementOperation"
   ]
  },
  {
   "cell_type": "code",
   "execution_count": 44,
   "metadata": {},
   "outputs": [
    {
     "name": "stdout",
     "output_type": "stream",
     "text": [
      "C:/snippet_.qs(5,34): warning QS3002: Deprecated syntax. Use the type name \"Unit\" instead.\n",
      "C:/snippet_.qs(7,9): warning QS3003: Deprecated syntax. An argument tuple is expected where \"...\" indicates the position of the declaration arguments, e.g. \"(...)\" for body and adjoint, \"(cs, ...)\" for controlled and controlled adjoint.\n",
      "C:/snippet_.qs(29,17): warning QS5003: Microsoft.Quantum.Extensions.Convert.ToStringI has been deprecated. Please use Microsoft.Quantum.Convert.IntAsString instead.\n",
      "C:/snippet_.qs(30,17): warning QS5003: Microsoft.Quantum.Extensions.Convert.ToStringI has been deprecated. Please use Microsoft.Quantum.Convert.IntAsString instead.\n"
     ]
    },
    {
     "data": {
      "application/json": "[\"MeasurementOperation\"]",
      "text/html": [
       "<ul><li>MeasurementOperation</li></ul>"
      ],
      "text/plain": [
       "MeasurementOperation"
      ]
     },
     "execution_count": 44,
     "metadata": {},
     "output_type": "execute_result"
    }
   ],
   "source": [
    "// counting teh result of H\n",
    "//applying H gate on the qubit which will give a 50 - 50 chance of the output\n",
    "//the output might change in every exectuion because H will put the qubit in a 50/50 superposition\n",
    "open Microsoft.Quantum.Extensions.Convert;\n",
    "operation MeasurementOperation():()\n",
    "{\n",
    "    body\n",
    "    {\n",
    "        mutable countZeros = 0;\n",
    "        mutable countOnes = 0;\n",
    "        for (iter in 1 ..1000)\n",
    "        {\n",
    "            using(qubits = Qubit[1])\n",
    "            {\n",
    "                H(qubits[0]);\n",
    "                let qubit = M(qubits[0]);\n",
    "                if(qubit == Zero)\n",
    "                {\n",
    "                    set countZeros = countZeros + 1;\n",
    "                }\n",
    "                elif(qubit == One)\n",
    "                {\n",
    "                    set countOnes = countOnes + 1;\n",
    "                }\n",
    "                //At the end of using, we ned to Reset all the qubits\n",
    "                ResetAll(qubits);\n",
    "            }\n",
    "        }\n",
    "        Message(ToStringI(countZeros));\n",
    "        Message(ToStringI(countOnes));\n",
    "    }\n",
    "}"
   ]
  },
  {
   "cell_type": "code",
   "execution_count": 45,
   "metadata": {},
   "outputs": [
    {
     "name": "stdout",
     "output_type": "stream",
     "text": [
      "500\n",
      "500\n"
     ]
    },
    {
     "data": {
      "application/json": "{\"@type\":\"tuple\"}",
      "text/plain": [
       "()"
      ]
     },
     "execution_count": 45,
     "metadata": {},
     "output_type": "execute_result"
    }
   ],
   "source": [
    "%simulate MeasurementOperation"
   ]
  },
  {
   "cell_type": "code",
   "execution_count": 75,
   "metadata": {},
   "outputs": [
    {
     "data": {
      "application/json": "[\"CNOTOperation\"]",
      "text/html": [
       "<ul><li>CNOTOperation</li></ul>"
      ],
      "text/plain": [
       "CNOTOperation"
      ]
     },
     "execution_count": 75,
     "metadata": {},
     "output_type": "execute_result"
    }
   ],
   "source": [
    "//applying CNOT\n",
    "open Microsoft.Quantum.Extensions.Convert;\n",
    "//open Microsoft.Quantum.Primitve;\n",
    "//open Microsoft.Quantum.Canon;\n",
    "open Microsoft.Quantum.Arrays;\n",
    "open Microsoft.Quantum.Measurement;\n",
    "open Microsoft.Quantum.Convert;\n",
    "\n",
    "operation CNOTOperation():Unit\n",
    "{\n",
    "   \n",
    "        using(qubits = Qubit[2])\n",
    "        {\n",
    "            Message(\"Input: 0-0\");\n",
    "            CNOT(qubits[0], qubits[1]);\n",
    "            mutable result = MultiM(qubits); //mutable defines the variable\n",
    "            Message (\"Output: \" + IntAsString(ResultArrayAsInt(Subarray([0], result))) + \"-\" +\n",
    "            IntAsString(ResultArrayAsInt(Subarray([1], result))));\n",
    "            ResetAll(qubits);\n",
    "            \n",
    "            Message(\"Input: 1-1\");\n",
    "            X(qubits[0]);\n",
    "            X(qubits[1]);\n",
    "            CNOT(qubits[0], qubits[1]);\n",
    "            set result = MultiM(qubits); // set assigns values to the variables\n",
    "            Message (\"Output: \" + IntAsString(ResultArrayAsInt(Subarray([0], result))) + \"-\" +\n",
    "            IntAsString(ResultArrayAsInt(Subarray([1], result))));\n",
    "            ResetAll(qubits);\n",
    "        }\n",
    "    \n",
    "}"
   ]
  },
  {
   "cell_type": "code",
   "execution_count": 76,
   "metadata": {},
   "outputs": [
    {
     "name": "stdout",
     "output_type": "stream",
     "text": [
      "Input: 0-0\n",
      "Output: 0-0\n",
      "Input: 1-1\n",
      "Output: 1-0\n"
     ]
    },
    {
     "data": {
      "application/json": "{\"@type\":\"tuple\"}",
      "text/plain": [
       "()"
      ]
     },
     "execution_count": 76,
     "metadata": {},
     "output_type": "execute_result"
    }
   ],
   "source": [
    "%simulate CNOTOperation"
   ]
  },
  {
   "cell_type": "code",
   "execution_count": null,
   "metadata": {},
   "outputs": [],
   "source": []
  }
 ],
 "metadata": {
  "kernelspec": {
   "display_name": "Q#",
   "language": "qsharp",
   "name": "iqsharp"
  },
  "language_info": {
   "file_extension": ".qs",
   "mimetype": "text/x-qsharp",
   "name": "qsharp",
   "version": "0.4"
  }
 },
 "nbformat": 4,
 "nbformat_minor": 4
}
